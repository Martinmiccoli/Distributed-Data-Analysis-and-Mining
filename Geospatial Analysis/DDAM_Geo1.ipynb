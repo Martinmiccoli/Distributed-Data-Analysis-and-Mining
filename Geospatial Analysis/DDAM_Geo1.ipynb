{
  "cells": [
    {
      "cell_type": "markdown",
      "metadata": {
        "id": "Y8r_qqnzQ7R-"
      },
      "source": [
        "# Preprocessing"
      ]
    },
    {
      "cell_type": "code",
      "execution_count": null,
      "metadata": {
        "colab": {
          "base_uri": "https://localhost:8080/"
        },
        "id": "bhu_IrEoH0ue",
        "outputId": "116355bc-3f19-44da-f858-17c4d2e91082"
      },
      "outputs": [
        {
          "name": "stdout",
          "output_type": "stream",
          "text": [
            "Mounted at /content/drive\n",
            "root\n",
            " |-- Unnamed: 0: integer (nullable = true)\n",
            " |-- trans_date_trans_time: timestamp (nullable = true)\n",
            " |-- cc_num: long (nullable = true)\n",
            " |-- merchant: string (nullable = true)\n",
            " |-- category: string (nullable = true)\n",
            " |-- amt: double (nullable = true)\n",
            " |-- first: string (nullable = true)\n",
            " |-- last: string (nullable = true)\n",
            " |-- gender: string (nullable = true)\n",
            " |-- street: string (nullable = true)\n",
            " |-- city: string (nullable = true)\n",
            " |-- state: string (nullable = true)\n",
            " |-- zip: integer (nullable = true)\n",
            " |-- lat: double (nullable = true)\n",
            " |-- long: double (nullable = true)\n",
            " |-- city_pop: integer (nullable = true)\n",
            " |-- job: string (nullable = true)\n",
            " |-- dob: date (nullable = true)\n",
            " |-- trans_num: string (nullable = true)\n",
            " |-- unix_time: integer (nullable = true)\n",
            " |-- merch_lat: double (nullable = true)\n",
            " |-- merch_long: double (nullable = true)\n",
            " |-- is_fraud: integer (nullable = true)\n",
            " |-- merch_zipcode: integer (nullable = true)\n",
            "\n",
            "+-------+-----------------+--------------------+-------------------+-------------+-----------------+-------+-------+-------+--------------------+-------+-------+------------------+-----------------+------------------+-----------------+------------------+--------------------+--------------------+------------------+------------------+--------------------+-----------------+\n",
            "|summary|       Unnamed: 0|              cc_num|           merchant|     category|              amt|  first|   last| gender|              street|   city|  state|               zip|              lat|              long|         city_pop|               job|           trans_num|           unix_time|         merch_lat|        merch_long|            is_fraud|    merch_zipcode|\n",
            "+-------+-----------------+--------------------+-------------------+-------------+-----------------+-------+-------+-------+--------------------+-------+-------+------------------+-----------------+------------------+-----------------+------------------+--------------------+--------------------+------------------+------------------+--------------------+-----------------+\n",
            "|  count|          1296675|             1296675|            1296675|      1296675|          1296675|1296675|1296675|1296675|             1296675|1296675|1296675|           1296675|          1296675|           1296675|          1296675|           1296675|             1296675|             1296675|           1296675|           1296675|             1296675|          1100702|\n",
            "|   mean|         648337.0|4.171920420797177E17|               NULL|         NULL|70.35103545607056|   NULL|   NULL|   NULL|                NULL|   NULL|   NULL| 48800.67109722945|38.53762161489217| -90.2263353786174|88824.44056297839|              NULL|            Infinity|1.3492436367261226E9|38.537338044698814|-90.22646479897257|0.005788651743883394|46825.75415053302|\n",
            "| stddev|374317.9744882685|1.308806447000242...|               NULL|         NULL| 160.316038571527|   NULL|   NULL|   NULL|                NULL|   NULL|   NULL|26893.222476486088|5.075808438803918|13.759076946486323|301956.3606887511|              NULL|                 NaN|1.2841278423356514E7|5.1097883696791895|13.771090564792466| 0.07586268973125193|25834.00115959992|\n",
            "|    min|                0|         60416207185|fraud_Abbott-Rogahn|entertainment|              1.0|  Aaron| Abbott|      F|  000 Jennifer Mills|Achille|     AK|              1257|          20.0271|         -165.6723|               23|Academic librarian|00000ecad06b03d3a...|          1325376018|         19.027785|       -166.671242|                   0|             1001|\n",
            "|    max|          1296674| 4992346398065154184|   fraud_Zulauf LLC|       travel|          28948.9|Zachary| Zuniga|      M|99736 Rose Shoals...|Zavalla|     WY|             99783|          66.6933|          -67.9503|          2906700|            Writer|ffffef9d89e7d02d8...|          1371816817|         67.510267|        -66.950902|                   1|            99403|\n",
            "+-------+-----------------+--------------------+-------------------+-------------+-----------------+-------+-------+-------+--------------------+-------+-------+------------------+-----------------+------------------+-----------------+------------------+--------------------+--------------------+------------------+------------------+--------------------+-----------------+\n",
            "\n",
            "+----------+---------------------+------+--------+--------+---+-----+----+------+------+----+-----+---+---+----+--------+---+---+---------+---------+---------+----------+--------+-------------+\n",
            "|Unnamed: 0|trans_date_trans_time|cc_num|merchant|category|amt|first|last|gender|street|city|state|zip|lat|long|city_pop|job|dob|trans_num|unix_time|merch_lat|merch_long|is_fraud|merch_zipcode|\n",
            "+----------+---------------------+------+--------+--------+---+-----+----+------+------+----+-----+---+---+----+--------+---+---+---------+---------+---------+----------+--------+-------------+\n",
            "|         0|                    0|     0|       0|       0|  0|    0|   0|     0|     0|   0|    0|  0|  0|   0|       0|  0|  0|        0|        0|        0|         0|       0|       195973|\n",
            "+----------+---------------------+------+--------+--------+---+-----+----+------+------+----+-----+---+---+----+--------+---+---+---------+---------+---------+----------+--------+-------------+\n",
            "\n",
            "+---------------------+-------------------+--------------------+-------------+------+------+--------------------+--------------------+-----+-----+-------+------------------+--------+--------------------+----------+--------------------+------------------+------------------+--------+----+---+-----+----+---+\n",
            "|trans_date_trans_time|             cc_num|            merchant|     category|   amt|gender|              street|                city|state|  zip|    lat|              long|city_pop|                 job|       dob|           trans_num|         merch_lat|        merch_long|is_fraud|hour|day|month|year|age|\n",
            "+---------------------+-------------------+--------------------+-------------+------+------+--------------------+--------------------+-----+-----+-------+------------------+--------+--------------------+----------+--------------------+------------------+------------------+--------+----+---+-----+----+---+\n",
            "|  2019-01-01 00:00:18|   2703186189652095|Rippin, Kub and Mann|     misc_net|  4.97|     F|      561 Perry Cove|      Moravian Falls|   NC|28654|36.0788|          -81.1781|    3495|Psychologist, cou...|1988-03-09|0b242abb623afc578...|         36.011293|        -82.048315|       0|   0|  1|    1|2019| 36|\n",
            "|  2019-01-01 00:00:44|       630423337322|Heller, Gutmann a...|  grocery_pos|107.23|     F|43039 Riley Green...|              Orient|   WA|99160|48.8878|         -118.2105|     149|Special education...|1978-06-21|1f76529f857473494...|49.159046999999994|       -118.186462|       0|   0|  1|    1|2019| 46|\n",
            "|  2019-01-01 00:00:51|     38859492057661|      Lind-Buckridge|entertainment|220.11|     M|594 White Dale Su...|          Malad City|   ID|83252|42.1808|          -112.262|    4154|Nature conservati...|1962-01-19|a1a22d70485983eac...|         43.150704|       -112.154481|       0|   0|  1|    1|2019| 62|\n",
            "|  2019-01-01 00:01:16|   3534093764340240|Kutch, Hermiston ...|gas_transport|  45.0|     M|9443 Cynthia Cour...|             Boulder|   MT|59632|46.2306|         -112.1138|    1939|     Patent attorney|1967-01-12|6b849c168bdad6f86...|         47.034331|       -112.561071|       0|   0|  1|    1|2019| 57|\n",
            "|  2019-01-01 00:03:06|    375534208663984|       Keeling-Crist|     misc_pos| 41.96|     M|    408 Bradley Rest|            Doe Hill|   VA|24433|38.4207|          -79.4629|      99|Dance movement ps...|1986-03-28|a41d7549acf907893...|         38.674999|        -78.632459|       0|   0|  1|    1|2019| 38|\n",
            "|  2019-01-01 00:04:08|   4767265376804500|Stroman, Hudson a...|gas_transport| 94.63|     F|   4655 David Island|              Dublin|   PA|18917| 40.375|          -75.2045|    2158|   Transport planner|1961-06-19|189a841a0a8ba0305...|         40.653382|-76.15266700000001|       0|   0|  1|    1|2019| 63|\n",
            "|  2019-01-01 00:04:42|     30074693890476|     Rowe-Vandervort|  grocery_net| 44.54|     F|889 Sarah Station...|             Holcomb|   KS|67851|37.9931|         -100.9893|    2691|     Arboriculturist|1993-08-16|83ec1cc84142af6e2...|37.162704999999995|        -100.15337|       0|   0|  1|    1|2019| 31|\n",
            "|  2019-01-01 00:05:08|   6011360759745864|      Corwin-Collins|gas_transport| 71.65|     M|231 Flores Pass S...|            Edinburg|   VA|22824|38.8432|          -78.6003|    6018|Designer, multimedia|1947-08-21|6d294ed2cc447d2c7...|         38.948089|        -78.540296|       0|   0|  1|    1|2019| 77|\n",
            "|  2019-01-01 00:05:18|   4922710831011201|          Herzog Ltd|     misc_pos|  4.27|     F|6888 Hicks Stream...|               Manor|   PA|15665|40.3359|          -79.6607|    1472|Public affairs co...|1941-03-07|fc28024ce480f8ef2...|         40.351813|        -79.958146|       0|   0|  1|    1|2019| 83|\n",
            "|  2019-01-01 00:06:01|   2720830304681674|Schoen, Kuphal an...|  grocery_pos|198.39|     F|21326 Taylor Squa...|         Clarksville|   TN|37040| 36.522|-87.34899999999999|  151785|         Pathologist|1974-03-28|3b9014ea8fb80bd65...|         37.179198|        -87.485381|       0|   0|  1|    1|2019| 50|\n",
            "|  2019-01-01 00:06:23|      4642894980163|    Rutherford-Mertz|  grocery_pos| 24.74|     M|1831 Faith View S...|            Clarinda|   IA|51632|40.7491|           -95.038|    7297|          IT trainer|1990-07-13|d71c95ab6b7356dd7...|40.275890999999994|        -96.011548|       0|   0|  1|    1|2019| 34|\n",
            "|  2019-01-01 00:06:53|    377234009633447|     Kerluke-Abshire| shopping_net|  7.77|     F|43576 Kristina Is...| Shenandoah Junction|   WV|25442|39.3716|          -77.8229|    1925|   Systems developer|1966-02-14|3c74776e558f1499a...|         40.103866|        -78.624459|       0|   0|  1|    1|2019| 58|\n",
            "|  2019-01-01 00:06:56|    180042946491150|         Lockman Ltd|  grocery_pos| 71.22|     M|    3337 Lisa Divide|    Saint Petersburg|   FL|33710|27.7898|          -82.7243|  341043|      Engineer, land|1989-02-28|c1d9a7ddb1e34639f...|         27.630593|        -82.308891|       0|   0|  1|    1|2019| 35|\n",
            "|  2019-01-01 00:07:27|   5559857416065248|           Kiehn Inc|  grocery_pos| 96.29|     M|5916 Susan Bridge...|             Grenada|   CA|96038|41.6125|         -122.5258|     589|     Systems analyst|1945-12-21|413636e759663f264...|          41.65752|       -122.230347|       0|   0|  1|    1|2019| 78|\n",
            "|  2019-01-01 00:09:03|   3514865930894695|         Beier-Hyatt| shopping_pos|  7.77|     M|1632 Cohen Drive ...|High Rolls Mounta...|   NM|88325|32.9396|         -105.8189|     899|     Naval architect|1967-08-30|8a6293af5ed278dea...|         32.863258|       -106.520205|       0|   0|  1|    1|2019| 57|\n",
            "|  2019-01-01 00:09:20|   6011999606625827|    Schmidt and Sons| shopping_net|  3.26|     M|     870 Rocha Drive|     Harrington Park|   NJ| 7640|40.9918|            -73.98|    4664|Radiographer, dia...|1965-06-30|baae0b096835c9758...|         41.831174|        -74.335559|       0|   0|  1|    1|2019| 59|\n",
            "|  2019-01-01 00:10:49|   6011860238257910|    Lebsack and Sons|     misc_net| 327.0|     F|44259 Beth Statio...|              Lahoma|   OK|73754| 36.385|          -98.0727|    1078|Programme researc...|1952-07-06|991c04803b4d4eeab...|36.384091999999995|        -99.048472|       0|   0|  1|    1|2019| 72|\n",
            "|  2019-01-01 00:10:58|   3565423334076143|        Mayert Group| shopping_pos|341.67|     M|4923 Campbell Pin...|            Carlisle|   IN|47838|38.9763|          -87.3667|    4081|     Energy engineer|1938-03-15|f12cf52be2175703d...|         38.674491|        -88.305767|       0|   0|  1|    1|2019| 86|\n",
            "|  2019-01-01 00:11:14|   2348245054386329|Konopelski, Schne...|  food_dining| 63.07|     M|268 Hayes Rue Sui...|         Harborcreek|   PA|16421|42.1767|          -79.9416|    2518|     Event organiser|1946-02-02|8500f3d459047eac8...|         41.430274|        -79.492553|       0|   0|  1|    1|2019| 78|\n",
            "|  2019-01-01 00:12:34|4956828990005111019|Schultz, Simonis ...|  grocery_pos| 44.71|     M|  269 Sanchez Rapids|           Elizabeth|   NJ| 7208|40.6747|          -74.2239|  124967|Operational resea...|1980-12-21|09eff9c806365e2a6...|         40.079588|-74.84808699999999|       0|   0|  1|    1|2019| 43|\n",
            "+---------------------+-------------------+--------------------+-------------+------+------+--------------------+--------------------+-----+-----+-------+------------------+--------+--------------------+----------+--------------------+------------------+------------------+--------+----+---+-----+----+---+\n",
            "only showing top 20 rows\n",
            "\n"
          ]
        }
      ],
      "source": [
        "from google.colab import drive\n",
        "drive.mount('/content/drive')\n",
        "\n",
        "from pyspark import SparkContext, SparkConf\n",
        "from pyspark.sql import SparkSession\n",
        "import matplotlib.pyplot as plt\n",
        "import numpy as np\n",
        "import pandas as pd\n",
        "import seaborn as sns\n",
        "\n",
        "spark = SparkSession.builder \\\n",
        "    .master('local[*]') \\\n",
        "    .config(\"spark.driver.memory\", \"15g\") \\\n",
        "    .appName(\"ddam_group2_2425\") \\\n",
        "    .getOrCreate()\n",
        "\n",
        "path = '/content/drive/MyDrive/DDAM Group 2/credit_card_transaction_train.csv'\n",
        "df = spark.read.csv(path, header=True, inferSchema=True)\n",
        "\n",
        "df.printSchema()\n",
        "\n",
        "# General description of data\n",
        "df.describe().show()\n",
        "\n",
        "from pyspark.sql.functions import col, when, count\n",
        "\n",
        "# Define aliases for missing values\n",
        "missing_value_aliases = ['None', 'NULL', 'na', 'n/a', 'NaN', '']\n",
        "\n",
        "# Check for missing values in all columns\n",
        "missing = df.select([count(\n",
        "    when(\n",
        "        col(c).isin(missing_value_aliases) | col(c).isNull() | (col(c) == ''),\n",
        "        c\n",
        "    )\n",
        ").alias(c) for c in df.columns])\n",
        "\n",
        "# Execute and show the results\n",
        "missing.show()\n",
        "\n",
        "# Step 2: Cast the necessary columns to the specified data types\n",
        "df = df.withColumn(\"cc_num\", col(\"cc_num\").cast(\"string\"))\n",
        "df = df.withColumn(\"zip\", col(\"zip\").cast(\"string\"))\n",
        "\n",
        "\n",
        "from pyspark.sql import functions as F\n",
        "\n",
        "# Step 3: Drop unnecessary columns\n",
        "df = df.drop(\"Unnamed: 0\", \"unix_time\", \"first\", \"last\", \"merch_zipcode\")\n",
        "\n",
        "# Step 4: Remove the \"fraud_\" prefix and handle longer merchant names dynamically with a very large upper bound\n",
        "df = df.withColumn(\"merchant\",\n",
        "                   when(col(\"merchant\").startswith(\"fraud_\"),\n",
        "                        col(\"merchant\").substr(7, 1000))  # Use the maximum integer value\n",
        "                   .otherwise(col(\"merchant\")))\n",
        "\n",
        "# Step 5: Split the 'trans_date_trans_time' column into separate hour, day, month, and year columns\n",
        "df = df.withColumn(\"hour\", F.hour(\"trans_date_trans_time\"))\n",
        "df = df.withColumn(\"day\", F.dayofmonth(\"trans_date_trans_time\"))\n",
        "df = df.withColumn(\"month\", F.month(\"trans_date_trans_time\"))\n",
        "df = df.withColumn(\"year\", F.year(\"trans_date_trans_time\"))\n",
        "\n",
        "# Step 6: Convert dob column into the age of the user\n",
        "from pyspark.sql.functions import datediff, current_date\n",
        "from pyspark.sql.types import IntegerType\n",
        "\n",
        "df = df.withColumn(\"age\", (datediff(current_date(), col(\"dob\")) / 365).cast(IntegerType()))\n",
        "df.show()"
      ]
    },
    {
      "cell_type": "code",
      "execution_count": null,
      "metadata": {
        "colab": {
          "base_uri": "https://localhost:8080/"
        },
        "id": "Qkh6YLzBOMC0",
        "outputId": "5a54ab7d-7fff-4afb-dffa-5da4edc14ec3"
      },
      "outputs": [
        {
          "name": "stdout",
          "output_type": "stream",
          "text": [
            "+---------------------+-------------------+--------------------+-------------+------+------+--------------------+--------------------+-----+-----+-------+------------------+--------+--------------------+----------+--------------------+------------------+------------------+--------+----+---+-----+----+---+------+\n",
            "|trans_date_trans_time|             cc_num|            merchant|     category|   amt|gender|              street|                city|state|  zip|    lat|              long|city_pop|                 job|       dob|           trans_num|         merch_lat|        merch_long|is_fraud|hour|day|month|year|age|online|\n",
            "+---------------------+-------------------+--------------------+-------------+------+------+--------------------+--------------------+-----+-----+-------+------------------+--------+--------------------+----------+--------------------+------------------+------------------+--------+----+---+-----+----+---+------+\n",
            "|  2019-01-01 00:00:18|   2703186189652095|Rippin, Kub and Mann|     misc_net|  4.97|     F|      561 Perry Cove|      Moravian Falls|   NC|28654|36.0788|          -81.1781|    3495|Psychologist, cou...|1988-03-09|0b242abb623afc578...|         36.011293|        -82.048315|       0|   0|  1|    1|2019| 36|     1|\n",
            "|  2019-01-01 00:00:44|       630423337322|Heller, Gutmann a...|  grocery_pos|107.23|     F|43039 Riley Green...|              Orient|   WA|99160|48.8878|         -118.2105|     149|Special education...|1978-06-21|1f76529f857473494...|49.159046999999994|       -118.186462|       0|   0|  1|    1|2019| 46|     0|\n",
            "|  2019-01-01 00:00:51|     38859492057661|      Lind-Buckridge|entertainment|220.11|     M|594 White Dale Su...|          Malad City|   ID|83252|42.1808|          -112.262|    4154|Nature conservati...|1962-01-19|a1a22d70485983eac...|         43.150704|       -112.154481|       0|   0|  1|    1|2019| 62|     0|\n",
            "|  2019-01-01 00:01:16|   3534093764340240|Kutch, Hermiston ...|gas_transport|  45.0|     M|9443 Cynthia Cour...|             Boulder|   MT|59632|46.2306|         -112.1138|    1939|     Patent attorney|1967-01-12|6b849c168bdad6f86...|         47.034331|       -112.561071|       0|   0|  1|    1|2019| 57|     0|\n",
            "|  2019-01-01 00:03:06|    375534208663984|       Keeling-Crist|     misc_pos| 41.96|     M|    408 Bradley Rest|            Doe Hill|   VA|24433|38.4207|          -79.4629|      99|Dance movement ps...|1986-03-28|a41d7549acf907893...|         38.674999|        -78.632459|       0|   0|  1|    1|2019| 38|     0|\n",
            "|  2019-01-01 00:04:08|   4767265376804500|Stroman, Hudson a...|gas_transport| 94.63|     F|   4655 David Island|              Dublin|   PA|18917| 40.375|          -75.2045|    2158|   Transport planner|1961-06-19|189a841a0a8ba0305...|         40.653382|-76.15266700000001|       0|   0|  1|    1|2019| 63|     0|\n",
            "|  2019-01-01 00:04:42|     30074693890476|     Rowe-Vandervort|  grocery_net| 44.54|     F|889 Sarah Station...|             Holcomb|   KS|67851|37.9931|         -100.9893|    2691|     Arboriculturist|1993-08-16|83ec1cc84142af6e2...|37.162704999999995|        -100.15337|       0|   0|  1|    1|2019| 31|     1|\n",
            "|  2019-01-01 00:05:08|   6011360759745864|      Corwin-Collins|gas_transport| 71.65|     M|231 Flores Pass S...|            Edinburg|   VA|22824|38.8432|          -78.6003|    6018|Designer, multimedia|1947-08-21|6d294ed2cc447d2c7...|         38.948089|        -78.540296|       0|   0|  1|    1|2019| 77|     0|\n",
            "|  2019-01-01 00:05:18|   4922710831011201|          Herzog Ltd|     misc_pos|  4.27|     F|6888 Hicks Stream...|               Manor|   PA|15665|40.3359|          -79.6607|    1472|Public affairs co...|1941-03-07|fc28024ce480f8ef2...|         40.351813|        -79.958146|       0|   0|  1|    1|2019| 83|     0|\n",
            "|  2019-01-01 00:06:01|   2720830304681674|Schoen, Kuphal an...|  grocery_pos|198.39|     F|21326 Taylor Squa...|         Clarksville|   TN|37040| 36.522|-87.34899999999999|  151785|         Pathologist|1974-03-28|3b9014ea8fb80bd65...|         37.179198|        -87.485381|       0|   0|  1|    1|2019| 50|     0|\n",
            "|  2019-01-01 00:06:23|      4642894980163|    Rutherford-Mertz|  grocery_pos| 24.74|     M|1831 Faith View S...|            Clarinda|   IA|51632|40.7491|           -95.038|    7297|          IT trainer|1990-07-13|d71c95ab6b7356dd7...|40.275890999999994|        -96.011548|       0|   0|  1|    1|2019| 34|     0|\n",
            "|  2019-01-01 00:06:53|    377234009633447|     Kerluke-Abshire| shopping_net|  7.77|     F|43576 Kristina Is...| Shenandoah Junction|   WV|25442|39.3716|          -77.8229|    1925|   Systems developer|1966-02-14|3c74776e558f1499a...|         40.103866|        -78.624459|       0|   0|  1|    1|2019| 58|     1|\n",
            "|  2019-01-01 00:06:56|    180042946491150|         Lockman Ltd|  grocery_pos| 71.22|     M|    3337 Lisa Divide|    Saint Petersburg|   FL|33710|27.7898|          -82.7243|  341043|      Engineer, land|1989-02-28|c1d9a7ddb1e34639f...|         27.630593|        -82.308891|       0|   0|  1|    1|2019| 35|     0|\n",
            "|  2019-01-01 00:07:27|   5559857416065248|           Kiehn Inc|  grocery_pos| 96.29|     M|5916 Susan Bridge...|             Grenada|   CA|96038|41.6125|         -122.5258|     589|     Systems analyst|1945-12-21|413636e759663f264...|          41.65752|       -122.230347|       0|   0|  1|    1|2019| 78|     0|\n",
            "|  2019-01-01 00:09:03|   3514865930894695|         Beier-Hyatt| shopping_pos|  7.77|     M|1632 Cohen Drive ...|High Rolls Mounta...|   NM|88325|32.9396|         -105.8189|     899|     Naval architect|1967-08-30|8a6293af5ed278dea...|         32.863258|       -106.520205|       0|   0|  1|    1|2019| 57|     0|\n",
            "|  2019-01-01 00:09:20|   6011999606625827|    Schmidt and Sons| shopping_net|  3.26|     M|     870 Rocha Drive|     Harrington Park|   NJ| 7640|40.9918|            -73.98|    4664|Radiographer, dia...|1965-06-30|baae0b096835c9758...|         41.831174|        -74.335559|       0|   0|  1|    1|2019| 59|     1|\n",
            "|  2019-01-01 00:10:49|   6011860238257910|    Lebsack and Sons|     misc_net| 327.0|     F|44259 Beth Statio...|              Lahoma|   OK|73754| 36.385|          -98.0727|    1078|Programme researc...|1952-07-06|991c04803b4d4eeab...|36.384091999999995|        -99.048472|       0|   0|  1|    1|2019| 72|     1|\n",
            "|  2019-01-01 00:10:58|   3565423334076143|        Mayert Group| shopping_pos|341.67|     M|4923 Campbell Pin...|            Carlisle|   IN|47838|38.9763|          -87.3667|    4081|     Energy engineer|1938-03-15|f12cf52be2175703d...|         38.674491|        -88.305767|       0|   0|  1|    1|2019| 86|     0|\n",
            "|  2019-01-01 00:11:14|   2348245054386329|Konopelski, Schne...|  food_dining| 63.07|     M|268 Hayes Rue Sui...|         Harborcreek|   PA|16421|42.1767|          -79.9416|    2518|     Event organiser|1946-02-02|8500f3d459047eac8...|         41.430274|        -79.492553|       0|   0|  1|    1|2019| 78|     0|\n",
            "|  2019-01-01 00:12:34|4956828990005111019|Schultz, Simonis ...|  grocery_pos| 44.71|     M|  269 Sanchez Rapids|           Elizabeth|   NJ| 7208|40.6747|          -74.2239|  124967|Operational resea...|1980-12-21|09eff9c806365e2a6...|         40.079588|-74.84808699999999|       0|   0|  1|    1|2019| 43|     0|\n",
            "+---------------------+-------------------+--------------------+-------------+------+------+--------------------+--------------------+-----+-----+-------+------------------+--------+--------------------+----------+--------------------+------------------+------------------+--------+----+---+-----+----+---+------+\n",
            "only showing top 20 rows\n",
            "\n"
          ]
        }
      ],
      "source": [
        "# Add a new column \"off_on\" with \"online\" or \"offline\" based on category\n",
        "df = df.withColumn(\n",
        "    \"online\",\n",
        "    when(col(\"category\").like(\"%_net\"), 1)  # Check if category ends with \"_net\"\n",
        "    .when(col(\"category\").like(\"%_pos\"), 0)  # Check if category ends with \"_pos\"\n",
        "    .otherwise(0)  # Default to \"offline\" for other cases\n",
        ")\n",
        "df.show()"
      ]
    },
    {
      "cell_type": "code",
      "execution_count": null,
      "metadata": {
        "id": "S78lF2F1k44c"
      },
      "outputs": [],
      "source": [
        "offline_df = df.filter(col(\"online\") == 0) # select where online False (0)"
      ]
    },
    {
      "cell_type": "code",
      "execution_count": null,
      "metadata": {
        "colab": {
          "base_uri": "https://localhost:8080/"
        },
        "id": "Ul03cJKvf90k",
        "outputId": "6b4a3ab5-6b9f-4954-fc65-a8126ade3bf0"
      },
      "outputs": [
        {
          "name": "stdout",
          "output_type": "stream",
          "text": [
            "1090393\n",
            "root\n",
            " |-- trans_date_trans_time: timestamp (nullable = true)\n",
            " |-- cc_num: long (nullable = true)\n",
            " |-- merchant: string (nullable = true)\n",
            " |-- category: string (nullable = true)\n",
            " |-- amt: double (nullable = true)\n",
            " |-- gender: string (nullable = true)\n",
            " |-- street: string (nullable = true)\n",
            " |-- city: string (nullable = true)\n",
            " |-- state: string (nullable = true)\n",
            " |-- zip: integer (nullable = true)\n",
            " |-- lat: double (nullable = true)\n",
            " |-- long: double (nullable = true)\n",
            " |-- city_pop: integer (nullable = true)\n",
            " |-- job: string (nullable = true)\n",
            " |-- dob: date (nullable = true)\n",
            " |-- trans_num: string (nullable = true)\n",
            " |-- merch_lat: double (nullable = true)\n",
            " |-- merch_long: double (nullable = true)\n",
            " |-- is_fraud: integer (nullable = true)\n",
            " |-- hour: integer (nullable = true)\n",
            " |-- day: integer (nullable = true)\n",
            " |-- month: integer (nullable = true)\n",
            " |-- year: integer (nullable = true)\n",
            " |-- age: integer (nullable = true)\n",
            " |-- online: integer (nullable = true)\n",
            "\n"
          ]
        }
      ],
      "source": [
        "# Extract the header from the first part file\n",
        "offline_df.write.csv(\"geo_offline_pre.csv\", header=True)\n",
        "\n",
        "!head -n 1 geo_offline_pre.csv/part-00000-*.csv > geo_offline_pre_combined.csv\n",
        "\n",
        "# Append all data rows from all part files, skipping the header rows\n",
        "!tail -n +2 -q geo_offline_pre.csv/part-*.csv >> geo_offline_pre_combined.csv\n",
        "\n",
        "test = spark.read.csv(\"/content/geo_offline_pre_combined.csv\", header=True, inferSchema=True)\n",
        "test.cache()\n",
        "print(test.count())\n",
        "test.printSchema()"
      ]
    },
    {
      "cell_type": "markdown",
      "metadata": {
        "id": "zDxDaSBbRDrq"
      },
      "source": [
        "# GEOSPATIAL ANALYSIS"
      ]
    },
    {
      "cell_type": "code",
      "execution_count": 1,
      "metadata": {
        "colab": {
          "base_uri": "https://localhost:8080/"
        },
        "id": "TtJHyMhNnwF1",
        "outputId": "e5e914a5-a3ba-414a-c325-552e2cd5ed8d"
      },
      "outputs": [
        {
          "output_type": "stream",
          "name": "stdout",
          "text": [
            "Mounted at /content/drive\n"
          ]
        }
      ],
      "source": [
        "from pyspark import SparkContext\n",
        "import matplotlib.pyplot as plt\n",
        "from pyspark.sql import SparkSession\n",
        "\n",
        "from pyspark.sql.window import Window\n",
        "from pyspark.sql.functions import lag\n",
        "from pyspark.sql.functions import col\n",
        "\n",
        "\n",
        "from google.colab import drive\n",
        "drive.mount('/content/drive')\n",
        "\n",
        "from pyspark.sql.functions import *\n",
        "from pyspark.sql.types import BooleanType\n",
        "colors = {\n",
        "    \"Blue\": \"#1f77b4\",\n",
        "    \"Green\": \"#2ca02c\",\n",
        "    \"Red\": \"#d62728\",\n",
        "    \"Grey\": \"#7f7f7f\",\n",
        "}\n",
        "\n",
        "from datetime import datetime\n",
        "import holidays\n",
        "\n",
        "from pyspark.sql import SparkSession\n",
        "import os\n",
        "\n",
        "# Create the directory if it doesn't exist\n",
        "event_log_dir = \"/tmp/spark-events\"\n",
        "os.makedirs(event_log_dir, exist_ok=True)\n",
        "\n",
        "# Get total available system memory\n",
        "total_memory_gb = os.sysconf('SC_PAGE_SIZE') * os.sysconf('SC_PHYS_PAGES') / (1024. ** 3)\n",
        "\n",
        "# Set Spark to use a high percentage of system memory\n",
        "spark = SparkSession.builder \\\n",
        "    .appName(\"GeoAnalysisDDAM\") \\\n",
        "    .config(\"spark.executor.memory\", f\"{int(total_memory_gb * 0.8)}g\") \\\n",
        "    .config(\"spark.driver.memory\", f\"{int(total_memory_gb * 0.8)}g\") \\\n",
        "    .config(\"spark.executor.cores\", \"4\") \\\n",
        "    .config(\"spark.sql.shuffle.partitions\", \"200\") \\\n",
        "    .config(\"spark.dynamicAllocation.enabled\", \"true\") \\\n",
        "    .config(\"spark.eventLog.enabled\", \"true\") \\\n",
        "    .config(\"spark.eventLog.dir\", \"/tmp/spark-events\") \\\n",
        "    .getOrCreate()\n",
        "\n",
        "# Access SparkContext if needed\n",
        "sc = spark.sparkContext\n",
        "\n",
        "file_path = '/content/drive/MyDrive/DDAM Group 2/geo_offline_pre_combined.csv'\n",
        "df = spark.read.csv(file_path, header=True, inferSchema=True)"
      ]
    },
    {
      "cell_type": "code",
      "execution_count": 2,
      "metadata": {
        "id": "gCGEr70bn6_a"
      },
      "outputs": [],
      "source": [
        "# drop columns\n",
        "df = df.drop(\"gender\", \"street\", \"city\", \"state\", \"zip\", \"city_pop\", \"job\", \"dob\", \"year\", \"online\") # we are using only offline data"
      ]
    },
    {
      "cell_type": "code",
      "source": [
        "df.count()"
      ],
      "metadata": {
        "colab": {
          "base_uri": "https://localhost:8080/"
        },
        "id": "rQQ6VmNfGEZ7",
        "outputId": "26737dfe-1b2b-4977-fa17-4d2b1d0e12ef"
      },
      "execution_count": 3,
      "outputs": [
        {
          "output_type": "execute_result",
          "data": {
            "text/plain": [
              "1090393"
            ]
          },
          "metadata": {},
          "execution_count": 3
        }
      ]
    },
    {
      "cell_type": "code",
      "execution_count": null,
      "metadata": {
        "colab": {
          "base_uri": "https://localhost:8080/"
        },
        "id": "bnw-6L5Wfz6G",
        "outputId": "7fd965fe-8a56-46af-e944-7e963fe4b7f6"
      },
      "outputs": [
        {
          "output_type": "stream",
          "name": "stdout",
          "text": [
            "CPU times: user 15.7 ms, sys: 303 µs, total: 16 ms\n",
            "Wall time: 291 ms\n"
          ]
        }
      ],
      "source": [
        "%%time\n",
        "from pyspark.sql import functions as F\n",
        "def haversine(lat1, lon1, lat2, lon2):\n",
        "    R = 6371  # Radius of Earth in kilometers\n",
        "    lat1, lon1, lat2, lon2 = map(F.radians, [lat1, lon1, lat2, lon2])\n",
        "    dlat = lat2 - lat1\n",
        "    dlon = lon2 - lon1\n",
        "    a = F.sin(dlat / 2) ** 2 + F.cos(lat1) * F.cos(lat2) * F.sin(dlon / 2) ** 2\n",
        "    c = 2 * F.atan2(F.sqrt(a), F.sqrt(1 - a))\n",
        "    return R * c  # Returns distance in kilometers\n",
        "\n",
        "df = df.withColumn(\n",
        "    'distance_from_home',\n",
        "    haversine(df['lat'], df['long'], df['merch_lat'], df['merch_long'])\n",
        ")"
      ]
    },
    {
      "cell_type": "code",
      "source": [
        "# Extract the header from the first part file\n",
        "df.write.csv(\"geo_offline_pre.csv\", header=True)\n",
        "\n",
        "!head -n 1 geo_offline_pre.csv/part-00000-*.csv > geo_offline_pre_combined.csv\n",
        "\n",
        "# Append all data rows from all part files, skipping the header rows\n",
        "!tail -n +2 -q geo_offline_pre.csv/part-*.csv >> geo_offline_pre_combined.csv\n",
        "\n",
        "test = spark.read.csv(\"/content/geo_offline_pre_combined.csv\", header=True, inferSchema=True)\n",
        "test.cache()\n",
        "print(test.count())\n",
        "test.printSchema()"
      ],
      "metadata": {
        "colab": {
          "base_uri": "https://localhost:8080/"
        },
        "id": "NiMj5sxnFqHk",
        "outputId": "c8780db2-16ec-4066-cfe9-0b3916b37fec"
      },
      "execution_count": null,
      "outputs": [
        {
          "output_type": "stream",
          "name": "stdout",
          "text": [
            "1090393\n",
            "root\n",
            " |-- trans_date_trans_time: timestamp (nullable = true)\n",
            " |-- cc_num: long (nullable = true)\n",
            " |-- merchant: string (nullable = true)\n",
            " |-- category: string (nullable = true)\n",
            " |-- amt: double (nullable = true)\n",
            " |-- lat: double (nullable = true)\n",
            " |-- long: double (nullable = true)\n",
            " |-- trans_num: string (nullable = true)\n",
            " |-- merch_lat: double (nullable = true)\n",
            " |-- merch_long: double (nullable = true)\n",
            " |-- is_fraud: integer (nullable = true)\n",
            " |-- hour: integer (nullable = true)\n",
            " |-- day: integer (nullable = true)\n",
            " |-- month: integer (nullable = true)\n",
            " |-- age: integer (nullable = true)\n",
            " |-- prev_lat: double (nullable = true)\n",
            " |-- prev_long: double (nullable = true)\n",
            " |-- distance_from_home: double (nullable = true)\n",
            "\n"
          ]
        }
      ]
    },
    {
      "cell_type": "code",
      "execution_count": null,
      "metadata": {
        "colab": {
          "base_uri": "https://localhost:8080/",
          "height": 564
        },
        "id": "QUfpBYG4X536",
        "outputId": "b71b8776-2f06-420a-d325-424eed9fbb92"
      },
      "outputs": [
        {
          "output_type": "display_data",
          "data": {
            "text/plain": [
              "<Figure size 1000x600 with 1 Axes>"
            ],
            "image/png": "[encoded data removed]"
          },
          "metadata": {}
        }
      ],
      "source": [
        "import matplotlib.pyplot as plt\n",
        "import numpy as np\n",
        "from pyspark.sql.functions import col\n",
        "\n",
        "# Filter valid distances (exclude null or unrealistic values)\n",
        "df_filtered = df.filter((col(\"distance_from_home\").isNotNull()) & (col(\"distance_from_home\") >= 0))\n",
        "\n",
        "# Convert the filtered DataFrame to Pandas for plotting\n",
        "df_pandas = df_filtered.select(\"distance_from_home\").toPandas()\n",
        "\n",
        "# Extract the distance data as a NumPy array\n",
        "distance_data = df_pandas[\"distance_from_home\"].to_numpy()\n",
        "\n",
        "# Create the histogram with Matplotlib\n",
        "plt.figure(figsize=(10, 6))\n",
        "plt.hist(distance_data, bins=30, color='teal', alpha=0.7)\n",
        "\n",
        "# Add labels and title\n",
        "plt.title(\"Distribution of Distance from Home\")\n",
        "plt.xlabel(\"Distance from Home (miles)\")\n",
        "plt.ylabel(\"Frequency\")\n",
        "\n",
        "# Show grid for better readability\n",
        "plt.grid(True)\n",
        "\n",
        "# Display the plot\n",
        "plt.show()"
      ]
    },
    {
      "cell_type": "code",
      "execution_count": 4,
      "metadata": {
        "colab": {
          "base_uri": "https://localhost:8080/"
        },
        "id": "m00keX3-YBpA",
        "outputId": "a7565b4b-e618-443c-9e51-da46d2282d89"
      },
      "outputs": [
        {
          "output_type": "execute_result",
          "data": {
            "text/plain": [
              "520307"
            ]
          },
          "metadata": {},
          "execution_count": 4
        }
      ],
      "source": [
        "# highlight fraudulent transactions with large distances from home\n",
        "filtered_data = df.filter(col(\"distance_from_home\") > 80)\n",
        "filtered_data.count()"
      ]
    },
    {
      "cell_type": "code",
      "execution_count": 5,
      "metadata": {
        "colab": {
          "base_uri": "https://localhost:8080/"
        },
        "id": "x0S6xkrxwaGV",
        "outputId": "429e3b1c-7536-438c-f9ca-356663d9f896"
      },
      "outputs": [
        {
          "output_type": "stream",
          "name": "stdout",
          "text": [
            "root\n",
            " |-- trans_date_trans_time: timestamp (nullable = true)\n",
            " |-- cc_num: long (nullable = true)\n",
            " |-- merchant: string (nullable = true)\n",
            " |-- category: string (nullable = true)\n",
            " |-- amt: double (nullable = true)\n",
            " |-- lat: double (nullable = true)\n",
            " |-- long: double (nullable = true)\n",
            " |-- trans_num: string (nullable = true)\n",
            " |-- merch_lat: double (nullable = true)\n",
            " |-- merch_long: double (nullable = true)\n",
            " |-- is_fraud: integer (nullable = true)\n",
            " |-- hour: integer (nullable = true)\n",
            " |-- day: integer (nullable = true)\n",
            " |-- month: integer (nullable = true)\n",
            " |-- age: integer (nullable = true)\n",
            " |-- prev_lat: double (nullable = true)\n",
            " |-- prev_long: double (nullable = true)\n",
            " |-- distance_from_home: double (nullable = true)\n",
            "\n"
          ]
        }
      ],
      "source": [
        "filtered_data.printSchema()"
      ]
    },
    {
      "cell_type": "code",
      "execution_count": 6,
      "metadata": {
        "colab": {
          "base_uri": "https://localhost:8080/",
          "height": 603
        },
        "id": "fDPgeZxesu7N",
        "outputId": "3a9b1cfc-5024-4edf-d0cd-808d33bddde8"
      },
      "outputs": [
        {
          "output_type": "display_data",
          "data": {
            "text/plain": [
              "<Figure size 1000x600 with 1 Axes>"
            ],
            "image/png": "[encoded data removed]"
          },
          "metadata": {}
        },
        {
          "output_type": "stream",
          "name": "stdout",
          "text": [
            "CPU times: user 3.27 s, sys: 458 ms, total: 3.73 s\n",
            "Wall time: 6min 53s\n"
          ]
        }
      ],
      "source": [
        "%%time\n",
        "from pyspark.ml.feature import VectorAssembler, StringIndexer, StandardScaler\n",
        "from pyspark.ml.clustering import KMeans\n",
        "import matplotlib.pyplot as plt\n",
        "\n",
        "# Select relevant columns for clustering\n",
        "# For categorical features, we will apply StringIndexer to convert them to numerical values\n",
        "categorical_columns = [\"merchant\", \"category\", \"cc_num\"]\n",
        "numeric_columns = [\"amt\", \"lat\", \"long\", \"merch_lat\", \"merch_long\", \"is_fraud\", \"hour\",\n",
        "                   \"day\", \"month\", \"age\", \"distance_from_home\"]\n",
        "\n",
        "# Apply StringIndexer to convert categorical columns to numerical\n",
        "indexers = [StringIndexer(inputCol=col, outputCol=col+\"_indexed\") for col in categorical_columns]\n",
        "\n",
        "# Assemble all features into a single vector\n",
        "vector_assembler = VectorAssembler(inputCols=numeric_columns + [col+\"_indexed\" for col in categorical_columns],\n",
        "                                   outputCol=\"features\")\n",
        "\n",
        "# Combine indexers and assembler into a pipeline\n",
        "from pyspark.ml import Pipeline\n",
        "\n",
        "pipeline = Pipeline(stages=indexers + [vector_assembler])\n",
        "clustering_data = pipeline.fit(filtered_data).transform(filtered_data)\n",
        "\n",
        "# Optionally, scale the features (important if there are large differences in scale)\n",
        "scaler = StandardScaler(inputCol=\"features\", outputCol=\"scaled_features\", withStd=True, withMean=False)\n",
        "clustering_data = scaler.fit(clustering_data).transform(clustering_data)\n",
        "\n",
        "# Range of k values to test\n",
        "k_values = range(2, 11)\n",
        "inertia = []  # To store WCSS for each k\n",
        "\n",
        "# Elbow method to determine optimal k\n",
        "for k in k_values:\n",
        "    kmeans = KMeans(k=k, seed=1, featuresCol=\"scaled_features\", predictionCol=\"cluster\")\n",
        "    model = kmeans.fit(clustering_data)\n",
        "    inertia.append(model.summary.trainingCost)  # WCSS/Inertia\n",
        "\n",
        "# Plot the Elbow Method\n",
        "plt.figure(figsize=(10, 6))\n",
        "plt.plot(k_values, inertia, marker='o')\n",
        "plt.title(\"Elbow Method for Optimal k\", fontsize=16)\n",
        "plt.xlabel(\"Number of Clusters (k)\", fontsize=14)\n",
        "plt.ylabel(\"Within-Cluster Sum of Squares (WCSS)\", fontsize=14)\n",
        "plt.grid(True, linestyle='--', alpha=0.7)\n",
        "plt.show()"
      ]
    },
    {
      "cell_type": "code",
      "execution_count": 7,
      "metadata": {
        "colab": {
          "base_uri": "https://localhost:8080/"
        },
        "id": "3YGawtnmZUDz",
        "outputId": "4ebbad8d-ca5d-42e6-d4e7-20be0a5ed7cc"
      },
      "outputs": [
        {
          "output_type": "stream",
          "name": "stdout",
          "text": [
            "+------------------+-----+---+-------+\n",
            "|distance_from_home|  amt|age|cluster|\n",
            "+------------------+-----+---+-------+\n",
            "|  90.0455787484806| 94.2| 82|      1|\n",
            "| 129.6889545439483| 83.8| 82|      1|\n",
            "|113.55100469758354|90.72| 82|      1|\n",
            "|118.96364264842292|38.25| 82|      2|\n",
            "|119.89453733256082|63.53| 82|      1|\n",
            "+------------------+-----+---+-------+\n",
            "only showing top 5 rows\n",
            "\n",
            "CPU times: user 233 ms, sys: 25.4 ms, total: 258 ms\n",
            "Wall time: 36.8 s\n"
          ]
        }
      ],
      "source": [
        "%%time\n",
        "# kmeans with chosen k\n",
        "kmeans = KMeans(k=4, seed=1, featuresCol=\"features\", predictionCol=\"cluster\")\n",
        "model = kmeans.fit(clustering_data)\n",
        "\n",
        "# Make predictions (i.e., assign clusters)\n",
        "clustered_data = model.transform(clustering_data)\n",
        "\n",
        "# Show the resulting clusters\n",
        "clustered_data.select(\"distance_from_home\", \"amt\", \"age\",\"cluster\").show(5)"
      ]
    },
    {
      "cell_type": "code",
      "execution_count": 8,
      "metadata": {
        "colab": {
          "base_uri": "https://localhost:8080/"
        },
        "id": "Mko5mVFZt22f",
        "outputId": "633001aa-29a7-42d0-9722-0626cafad5a4"
      },
      "outputs": [
        {
          "output_type": "stream",
          "name": "stdout",
          "text": [
            "Sum of Squared Errors (SSE): 21972143719.08171\n",
            "Silhouette Score: 0.5036160298503507\n",
            "CPU times: user 131 ms, sys: 14 ms, total: 145 ms\n",
            "Wall time: 21.7 s\n"
          ]
        }
      ],
      "source": [
        "%%time\n",
        "from pyspark.ml.evaluation import ClusteringEvaluator\n",
        "# Compute SSE (Within-Cluster Sum of Squares)\n",
        "sse = model.summary.trainingCost\n",
        "print(f\"Sum of Squared Errors (SSE): {sse}\")\n",
        "\n",
        "# Compute Silhouette Score\n",
        "evaluator = ClusteringEvaluator(featuresCol=\"features\", predictionCol=\"cluster\", metricName=\"silhouette\")\n",
        "silhouette_score = evaluator.evaluate(clustered_data)\n",
        "print(f\"Silhouette Score: {silhouette_score}\")"
      ]
    },
    {
      "cell_type": "code",
      "execution_count": null,
      "metadata": {
        "id": "wk99kTaCZrCT"
      },
      "outputs": [],
      "source": [
        "import plotly.graph_objects as go\n",
        "import pandas as pd\n",
        "\n",
        "\n",
        "clustered_pandas = clustered_data.select(\"distance_from_home\", \"amt\", \"age\", \"cluster\", \"is_fraud\").toPandas()\n",
        "clustered_pandas['cluster'] = clustered_pandas['cluster'].astype('category')\n",
        "\n",
        "cluster_colors = clustered_pandas['cluster'].map({0: 'blue',\n",
        "                                                  1: 'green',\n",
        "                                                  2: 'teal',\n",
        "                                                  3: 'black'})  # Change as per your cluster count\n",
        "\n",
        "# Set fraud points to red\n",
        "clustered_pandas['color'] = cluster_colors\n",
        "# Add 'red' as a category to 'color' to allow assignment\n",
        "clustered_pandas['color'] = clustered_pandas['color'].astype(pd.CategoricalDtype(categories=list(clustered_pandas['color'].cat.categories) + ['red']))\n",
        "# Set 'color' to red for fraudulent transactions\n",
        "clustered_pandas.loc[clustered_pandas['is_fraud'] == 1, 'color'] = 'red'\n",
        "\n",
        "fig = go.Figure(data=[go.Scatter3d(\n",
        "    x=clustered_pandas[\"distance_from_home\"],\n",
        "    y=clustered_pandas[\"amt\"],\n",
        "    z=clustered_pandas[\"age\"],\n",
        "    mode=\"markers\",\n",
        "    marker=dict(\n",
        "        size=5,\n",
        "        color=clustered_pandas[\"color\"],\n",
        "        opacity=0.8\n",
        "    ),\n",
        "    text=clustered_pandas[\"cluster\"],\n",
        ")])\n",
        "\n",
        "# Update layout for better visualization\n",
        "fig.update_layout(\n",
        "    title=\"3D KMeans Clustering: Distance from Home, Transaction Amount, and Age\",\n",
        "    scene=dict(\n",
        "        xaxis=dict(title=\"Distance from Home (miles)\"),\n",
        "        yaxis=dict(title=\"Transaction Amount ($)\"),\n",
        "        zaxis=dict(title=\"Age\")\n",
        "    ),\n",
        "    margin=dict(l=0, r=0, b=0, t=40),\n",
        "    legend=dict(title=\"Cluster\")\n",
        ")\n",
        "\n",
        "# Show the plot\n",
        "fig.show()"
      ]
    },
    {
      "cell_type": "code",
      "execution_count": null,
      "metadata": {
        "id": "K6eUhg6JwRx3"
      },
      "outputs": [],
      "source": []
    }
  ],
  "metadata": {
    "colab": {
      "provenance": [],
      "collapsed_sections": [
        "Y8r_qqnzQ7R-"
      ]
    },
    "kernelspec": {
      "display_name": "Python 3",
      "name": "python3"
    },
    "language_info": {
      "name": "python"
    }
  },
  "nbformat": 4,
  "nbformat_minor": 0
}